{
  "nbformat": 4,
  "nbformat_minor": 0,
  "metadata": {
    "colab": {
      "name": "Pizza vs Softdrink.ipynb",
      "provenance": [],
      "collapsed_sections": [],
      "toc_visible": true,
      "authorship_tag": "ABX9TyNs2n/DRo3DCnAGewK/jgH2",
      "include_colab_link": true
    },
    "kernelspec": {
      "name": "python3",
      "display_name": "Python 3"
    },
    "accelerator": "GPU"
  },
  "cells": [
    {
      "cell_type": "markdown",
      "metadata": {
        "id": "view-in-github",
        "colab_type": "text"
      },
      "source": [
        "<a href=\"https://colab.research.google.com/github/AyanBhunia/Super-brain-ML/blob/master/Pizza_vs_Softdrink.ipynb\" target=\"_parent\"><img src=\"https://colab.research.google.com/assets/colab-badge.svg\" alt=\"Open In Colab\"/></a>"
      ]
    },
    {
      "cell_type": "markdown",
      "metadata": {
        "id": "-el0hbbWpgAT",
        "colab_type": "text"
      },
      "source": [
        "# Getting Dataset"
      ]
    },
    {
      "cell_type": "code",
      "metadata": {
        "id": "_FqBXuYw_XP1",
        "colab_type": "code",
        "colab": {
          "base_uri": "https://localhost:8080/",
          "height": 54
        },
        "outputId": "7040106c-2e72-4a15-c69a-95404824965b"
      },
      "source": [
        "from google.colab import drive\n",
        "drive.mount('/content/drive')"
      ],
      "execution_count": null,
      "outputs": [
        {
          "output_type": "stream",
          "text": [
            "Drive already mounted at /content/drive; to attempt to forcibly remount, call drive.mount(\"/content/drive\", force_remount=True).\n"
          ],
          "name": "stdout"
        }
      ]
    },
    {
      "cell_type": "code",
      "metadata": {
        "id": "nB7qK3j9AxmB",
        "colab_type": "code",
        "colab": {}
      },
      "source": [
        "# !unzip \"/content/drive/My Drive/super-brain/food_classifer_dataset.zip\" -d \"/content/\""
      ],
      "execution_count": null,
      "outputs": []
    },
    {
      "cell_type": "markdown",
      "metadata": {
        "id": "zzqo-TfwpzBr",
        "colab_type": "text"
      },
      "source": [
        "# Importing Important Libraries"
      ]
    },
    {
      "cell_type": "code",
      "metadata": {
        "id": "p6nLwn3OCPHs",
        "colab_type": "code",
        "colab": {}
      },
      "source": [
        "# this is going to help in data processing\n",
        "from keras.preprocessing.image import ImageDataGenerator"
      ],
      "execution_count": null,
      "outputs": []
    },
    {
      "cell_type": "code",
      "metadata": {
        "id": "QxmyYqENCfwO",
        "colab_type": "code",
        "colab": {}
      },
      "source": [
        "#these are going to help in the model building.\n",
        "from keras.models import Sequential\n",
        "from keras.layers import Conv2D, MaxPooling2D, BatchNormalization\n",
        "from keras.layers import Activation, Dropout, Flatten, Dense\n"
      ],
      "execution_count": null,
      "outputs": []
    },
    {
      "cell_type": "markdown",
      "metadata": {
        "id": "txR6cVK2p4Eb",
        "colab_type": "text"
      },
      "source": [
        "# Setting up Variables"
      ]
    },
    {
      "cell_type": "code",
      "metadata": {
        "id": "53GbH8I4CqBt",
        "colab_type": "code",
        "colab": {}
      },
      "source": [
        "# dimensions of our images.\n",
        "img_width, img_height = 150, 150\n",
        "\n",
        "#setting up the directories\n",
        "train_data_dir = '/content/classifer_dataset/train'\n",
        "validation_data_dir = '/content/classifer_dataset/validate'\n",
        "\n",
        "#setting up the batchsizes.\n",
        "nb_train_samples = 8400\n",
        "nb_validation_samples = 1600\n",
        "\n",
        "#Hyperparameter\n",
        "epochs = 50\n",
        "batch_size = 16"
      ],
      "execution_count": null,
      "outputs": []
    },
    {
      "cell_type": "code",
      "metadata": {
        "id": "W22rKyFSDenv",
        "colab_type": "code",
        "colab": {}
      },
      "source": [
        "input_shape = (img_width, img_height, 3)"
      ],
      "execution_count": null,
      "outputs": []
    },
    {
      "cell_type": "code",
      "metadata": {
        "id": "zlRHwdA-EF_o",
        "colab_type": "code",
        "colab": {
          "base_uri": "https://localhost:8080/",
          "height": 34
        },
        "outputId": "20b054a1-ca0b-497d-9e1e-293839a0a4ea"
      },
      "source": [
        "print(input_shape)"
      ],
      "execution_count": null,
      "outputs": [
        {
          "output_type": "stream",
          "text": [
            "(150, 150, 3)\n"
          ],
          "name": "stdout"
        }
      ]
    },
    {
      "cell_type": "markdown",
      "metadata": {
        "id": "epxwtdgbp9hr",
        "colab_type": "text"
      },
      "source": [
        "# Data Augmentation"
      ]
    },
    {
      "cell_type": "code",
      "metadata": {
        "id": "LSCajKY5EGhf",
        "colab_type": "code",
        "colab": {}
      },
      "source": [
        "# this is the augmentation configuration we will use for training\n",
        "train_datagen = ImageDataGenerator(\n",
        "    rescale=1./ 255,\n",
        "    shear_range=0.2,\n",
        "    zoom_range=0.2,\n",
        "    horizontal_flip=True)"
      ],
      "execution_count": null,
      "outputs": []
    },
    {
      "cell_type": "code",
      "metadata": {
        "id": "zGqQIAvtGcc7",
        "colab_type": "code",
        "colab": {
          "base_uri": "https://localhost:8080/",
          "height": 34
        },
        "outputId": "c50c2d9c-dafd-44c9-d72f-6c61c65687e0"
      },
      "source": [
        "#this generates batches of augment data for training\n",
        "train_generator = train_datagen.flow_from_directory(\n",
        "    train_data_dir,\n",
        "    target_size=(img_width, img_height),\n",
        "    batch_size=batch_size,\n",
        "    class_mode='binary')"
      ],
      "execution_count": null,
      "outputs": [
        {
          "output_type": "stream",
          "text": [
            "Found 8400 images belonging to 2 classes.\n"
          ],
          "name": "stdout"
        }
      ]
    },
    {
      "cell_type": "code",
      "metadata": {
        "id": "fa7lzUs9HWgZ",
        "colab_type": "code",
        "colab": {
          "base_uri": "https://localhost:8080/",
          "height": 34
        },
        "outputId": "8c3bbbe8-a534-4e92-d01e-cb6ea3971a45"
      },
      "source": [
        "# this is the augmentation configuration we will use for validating\n",
        "val_datagen = ImageDataGenerator(rescale=1./255)\n",
        "\n",
        "#this generates batches of augment data for validating\n",
        "validation_generator = val_datagen.flow_from_directory(\n",
        "    validation_data_dir,\n",
        "    target_size=(img_width, img_height),\n",
        "    batch_size=batch_size,\n",
        "    class_mode='binary')\n"
      ],
      "execution_count": null,
      "outputs": [
        {
          "output_type": "stream",
          "text": [
            "Found 1600 images belonging to 2 classes.\n"
          ],
          "name": "stdout"
        }
      ]
    },
    {
      "cell_type": "markdown",
      "metadata": {
        "id": "s9ybSXt-qDvi",
        "colab_type": "text"
      },
      "source": [
        "# Building the CNN model"
      ]
    },
    {
      "cell_type": "code",
      "metadata": {
        "id": "HPQclHghID6c",
        "colab_type": "code",
        "colab": {}
      },
      "source": [
        "model = Sequential()"
      ],
      "execution_count": null,
      "outputs": []
    },
    {
      "cell_type": "code",
      "metadata": {
        "id": "VwXx676eOCDn",
        "colab_type": "code",
        "colab": {}
      },
      "source": [
        "model.add(Conv2D(32, (3, 3), activation='relu', input_shape=input_shape))\n",
        "model.add(BatchNormalization())\n",
        "model.add(MaxPooling2D(pool_size=(2, 2)))\n",
        "model.add(Dropout(0.25))\n",
        "\n",
        "model.add(Conv2D(64, (3, 3), activation='relu'))\n",
        "model.add(BatchNormalization())\n",
        "model.add(MaxPooling2D(pool_size=(2, 2)))\n",
        "model.add(Dropout(0.25))\n",
        "\n",
        "model.add(Conv2D(128, (3, 3), activation='relu'))\n",
        "model.add(BatchNormalization())\n",
        "model.add(MaxPooling2D(pool_size=(2, 2)))\n",
        "model.add(Dropout(0.25))"
      ],
      "execution_count": null,
      "outputs": []
    },
    {
      "cell_type": "code",
      "metadata": {
        "id": "dN0OW4wtOEob",
        "colab_type": "code",
        "colab": {}
      },
      "source": [
        "model.add(Flatten())"
      ],
      "execution_count": null,
      "outputs": []
    },
    {
      "cell_type": "code",
      "metadata": {
        "id": "mHwRVy7MOGyL",
        "colab_type": "code",
        "colab": {}
      },
      "source": [
        "model.add(Dense(512, activation='relu'))\n",
        "model.add(BatchNormalization())\n",
        "model.add(Dropout(0.5))\n",
        "model.add(Dense(1, activation='sigmoid'))"
      ],
      "execution_count": null,
      "outputs": []
    },
    {
      "cell_type": "code",
      "metadata": {
        "id": "uaQ9UiL_OKIr",
        "colab_type": "code",
        "colab": {}
      },
      "source": [
        "#configuring the model\n",
        "model.compile(loss='binary_crossentropy',\n",
        "              optimizer='rmsprop',\n",
        "              metrics=['accuracy'])\n"
      ],
      "execution_count": null,
      "outputs": []
    },
    {
      "cell_type": "code",
      "metadata": {
        "id": "PHDYQ7PnOa1Z",
        "colab_type": "code",
        "colab": {
          "base_uri": "https://localhost:8080/",
          "height": 731
        },
        "outputId": "43b10131-675e-44cc-b8ce-5d9731356d0a"
      },
      "source": [
        "#to print a summary representation of your model\n",
        "model.summary()"
      ],
      "execution_count": null,
      "outputs": [
        {
          "output_type": "stream",
          "text": [
            "Model: \"sequential_2\"\n",
            "_________________________________________________________________\n",
            "Layer (type)                 Output Shape              Param #   \n",
            "=================================================================\n",
            "conv2d_6 (Conv2D)            (None, 148, 148, 32)      896       \n",
            "_________________________________________________________________\n",
            "batch_normalization_8 (Batch (None, 148, 148, 32)      128       \n",
            "_________________________________________________________________\n",
            "max_pooling2d_6 (MaxPooling2 (None, 74, 74, 32)        0         \n",
            "_________________________________________________________________\n",
            "dropout_8 (Dropout)          (None, 74, 74, 32)        0         \n",
            "_________________________________________________________________\n",
            "conv2d_7 (Conv2D)            (None, 72, 72, 64)        18496     \n",
            "_________________________________________________________________\n",
            "batch_normalization_9 (Batch (None, 72, 72, 64)        256       \n",
            "_________________________________________________________________\n",
            "max_pooling2d_7 (MaxPooling2 (None, 36, 36, 64)        0         \n",
            "_________________________________________________________________\n",
            "dropout_9 (Dropout)          (None, 36, 36, 64)        0         \n",
            "_________________________________________________________________\n",
            "conv2d_8 (Conv2D)            (None, 34, 34, 128)       73856     \n",
            "_________________________________________________________________\n",
            "batch_normalization_10 (Batc (None, 34, 34, 128)       512       \n",
            "_________________________________________________________________\n",
            "max_pooling2d_8 (MaxPooling2 (None, 17, 17, 128)       0         \n",
            "_________________________________________________________________\n",
            "dropout_10 (Dropout)         (None, 17, 17, 128)       0         \n",
            "_________________________________________________________________\n",
            "flatten_2 (Flatten)          (None, 36992)             0         \n",
            "_________________________________________________________________\n",
            "dense_4 (Dense)              (None, 512)               18940416  \n",
            "_________________________________________________________________\n",
            "batch_normalization_11 (Batc (None, 512)               2048      \n",
            "_________________________________________________________________\n",
            "dropout_11 (Dropout)         (None, 512)               0         \n",
            "_________________________________________________________________\n",
            "dense_5 (Dense)              (None, 1)                 513       \n",
            "=================================================================\n",
            "Total params: 19,037,121\n",
            "Trainable params: 19,035,649\n",
            "Non-trainable params: 1,472\n",
            "_________________________________________________________________\n"
          ],
          "name": "stdout"
        }
      ]
    },
    {
      "cell_type": "markdown",
      "metadata": {
        "id": "UGelUOJYqP35",
        "colab_type": "text"
      },
      "source": [
        "# Training the model (Forward + Back Propagation)"
      ]
    },
    {
      "cell_type": "code",
      "metadata": {
        "id": "4Jr6n-RwPSYK",
        "colab_type": "code",
        "colab": {
          "base_uri": "https://localhost:8080/",
          "height": 1000
        },
        "outputId": "37f2f64a-1f0f-4491-e8cd-c554002f5889"
      },
      "source": [
        "model.fit_generator(\n",
        "    train_generator,\n",
        "    steps_per_epoch=nb_train_samples // batch_size,\n",
        "    epochs=epochs,\n",
        "    validation_data=validation_generator,\n",
        "    validation_steps=nb_validation_samples // batch_size)"
      ],
      "execution_count": null,
      "outputs": [
        {
          "output_type": "stream",
          "text": [
            "WARNING:tensorflow:From <ipython-input-56-2dedade68c7a>:6: Model.fit_generator (from tensorflow.python.keras.engine.training) is deprecated and will be removed in a future version.\n",
            "Instructions for updating:\n",
            "Please use Model.fit, which supports generators.\n",
            "Epoch 1/50\n",
            "525/525 [==============================] - 101s 192ms/step - loss: 0.4373 - accuracy: 0.8392 - val_loss: 1.0111 - val_accuracy: 0.6744\n",
            "Epoch 2/50\n",
            "525/525 [==============================] - 100s 191ms/step - loss: 0.2562 - accuracy: 0.8992 - val_loss: 0.2350 - val_accuracy: 0.9013\n",
            "Epoch 3/50\n",
            "525/525 [==============================] - 100s 191ms/step - loss: 0.2218 - accuracy: 0.9112 - val_loss: 1.1704 - val_accuracy: 0.6775\n",
            "Epoch 4/50\n",
            "525/525 [==============================] - 101s 192ms/step - loss: 0.2065 - accuracy: 0.9167 - val_loss: 0.2189 - val_accuracy: 0.9200\n",
            "Epoch 5/50\n",
            "525/525 [==============================] - 100s 191ms/step - loss: 0.1982 - accuracy: 0.9181 - val_loss: 0.1731 - val_accuracy: 0.9356\n",
            "Epoch 6/50\n",
            "525/525 [==============================] - 100s 190ms/step - loss: 0.1850 - accuracy: 0.9292 - val_loss: 0.1870 - val_accuracy: 0.9262\n",
            "Epoch 7/50\n",
            "525/525 [==============================] - 100s 190ms/step - loss: 0.1807 - accuracy: 0.9330 - val_loss: 0.1467 - val_accuracy: 0.9500\n",
            "Epoch 8/50\n",
            "525/525 [==============================] - 100s 190ms/step - loss: 0.1608 - accuracy: 0.9385 - val_loss: 0.1547 - val_accuracy: 0.9450\n",
            "Epoch 9/50\n",
            "525/525 [==============================] - 99s 189ms/step - loss: 0.1546 - accuracy: 0.9418 - val_loss: 0.1773 - val_accuracy: 0.9306\n",
            "Epoch 10/50\n",
            "525/525 [==============================] - 99s 189ms/step - loss: 0.1593 - accuracy: 0.9412 - val_loss: 0.1961 - val_accuracy: 0.9256\n",
            "Epoch 11/50\n",
            "525/525 [==============================] - 99s 189ms/step - loss: 0.1558 - accuracy: 0.9439 - val_loss: 0.3631 - val_accuracy: 0.8375\n",
            "Epoch 12/50\n",
            "525/525 [==============================] - 99s 189ms/step - loss: 0.1433 - accuracy: 0.9468 - val_loss: 0.2266 - val_accuracy: 0.9325\n",
            "Epoch 13/50\n",
            "525/525 [==============================] - 100s 190ms/step - loss: 0.1291 - accuracy: 0.9525 - val_loss: 0.2696 - val_accuracy: 0.8981\n",
            "Epoch 14/50\n",
            "525/525 [==============================] - 100s 190ms/step - loss: 0.1350 - accuracy: 0.9524 - val_loss: 0.5861 - val_accuracy: 0.7244\n",
            "Epoch 15/50\n",
            "525/525 [==============================] - 100s 191ms/step - loss: 0.1202 - accuracy: 0.9550 - val_loss: 0.1342 - val_accuracy: 0.9556\n",
            "Epoch 16/50\n",
            "525/525 [==============================] - 100s 191ms/step - loss: 0.1207 - accuracy: 0.9587 - val_loss: 0.1860 - val_accuracy: 0.9413\n",
            "Epoch 17/50\n",
            "525/525 [==============================] - 100s 191ms/step - loss: 0.1156 - accuracy: 0.9592 - val_loss: 0.1596 - val_accuracy: 0.9556\n",
            "Epoch 18/50\n",
            "525/525 [==============================] - 100s 191ms/step - loss: 0.1098 - accuracy: 0.9598 - val_loss: 0.2284 - val_accuracy: 0.9081\n",
            "Epoch 19/50\n",
            "525/525 [==============================] - 100s 191ms/step - loss: 0.1197 - accuracy: 0.9573 - val_loss: 0.1305 - val_accuracy: 0.9600\n",
            "Epoch 20/50\n",
            "525/525 [==============================] - 100s 190ms/step - loss: 0.1068 - accuracy: 0.9627 - val_loss: 0.1423 - val_accuracy: 0.9488\n",
            "Epoch 21/50\n",
            "525/525 [==============================] - 100s 190ms/step - loss: 0.1014 - accuracy: 0.9636 - val_loss: 0.3661 - val_accuracy: 0.9375\n",
            "Epoch 22/50\n",
            "525/525 [==============================] - 100s 190ms/step - loss: 0.1009 - accuracy: 0.9668 - val_loss: 0.7035 - val_accuracy: 0.8744\n",
            "Epoch 23/50\n",
            "525/525 [==============================] - 99s 189ms/step - loss: 0.1086 - accuracy: 0.9646 - val_loss: 0.1251 - val_accuracy: 0.9600\n",
            "Epoch 24/50\n",
            "525/525 [==============================] - 100s 190ms/step - loss: 0.0999 - accuracy: 0.9645 - val_loss: 0.1796 - val_accuracy: 0.9563\n",
            "Epoch 25/50\n",
            "525/525 [==============================] - 100s 191ms/step - loss: 0.1036 - accuracy: 0.9643 - val_loss: 0.2123 - val_accuracy: 0.9506\n",
            "Epoch 26/50\n",
            "525/525 [==============================] - 101s 191ms/step - loss: 0.1012 - accuracy: 0.9673 - val_loss: 0.2176 - val_accuracy: 0.9050\n",
            "Epoch 27/50\n",
            "525/525 [==============================] - 101s 192ms/step - loss: 0.0988 - accuracy: 0.9685 - val_loss: 0.2326 - val_accuracy: 0.9244\n",
            "Epoch 28/50\n",
            "525/525 [==============================] - 100s 191ms/step - loss: 0.0896 - accuracy: 0.9682 - val_loss: 0.1822 - val_accuracy: 0.9550\n",
            "Epoch 29/50\n",
            "525/525 [==============================] - 100s 191ms/step - loss: 0.0950 - accuracy: 0.9675 - val_loss: 0.2221 - val_accuracy: 0.9250\n",
            "Epoch 30/50\n",
            "525/525 [==============================] - 101s 192ms/step - loss: 0.0986 - accuracy: 0.9690 - val_loss: 0.2392 - val_accuracy: 0.9294\n",
            "Epoch 31/50\n",
            "525/525 [==============================] - 100s 190ms/step - loss: 0.0937 - accuracy: 0.9702 - val_loss: 0.1244 - val_accuracy: 0.9613\n",
            "Epoch 32/50\n",
            "525/525 [==============================] - 100s 190ms/step - loss: 0.0896 - accuracy: 0.9695 - val_loss: 0.2107 - val_accuracy: 0.9231\n",
            "Epoch 33/50\n",
            "525/525 [==============================] - 100s 190ms/step - loss: 0.0890 - accuracy: 0.9735 - val_loss: 0.1193 - val_accuracy: 0.9575\n",
            "Epoch 34/50\n",
            "525/525 [==============================] - 100s 190ms/step - loss: 0.0886 - accuracy: 0.9721 - val_loss: 0.3299 - val_accuracy: 0.8819\n",
            "Epoch 35/50\n",
            "525/525 [==============================] - 100s 190ms/step - loss: 0.0875 - accuracy: 0.9705 - val_loss: 0.1978 - val_accuracy: 0.9600\n",
            "Epoch 36/50\n",
            "525/525 [==============================] - 100s 191ms/step - loss: 0.0931 - accuracy: 0.9698 - val_loss: 0.1373 - val_accuracy: 0.9531\n",
            "Epoch 37/50\n",
            "525/525 [==============================] - 101s 192ms/step - loss: 0.0824 - accuracy: 0.9748 - val_loss: 0.1323 - val_accuracy: 0.9563\n",
            "Epoch 38/50\n",
            "525/525 [==============================] - 100s 191ms/step - loss: 0.0959 - accuracy: 0.9724 - val_loss: 0.2335 - val_accuracy: 0.9406\n",
            "Epoch 39/50\n",
            "525/525 [==============================] - 100s 191ms/step - loss: 0.0910 - accuracy: 0.9710 - val_loss: 0.1253 - val_accuracy: 0.9538\n",
            "Epoch 40/50\n",
            "525/525 [==============================] - 100s 191ms/step - loss: 0.0761 - accuracy: 0.9749 - val_loss: 0.1730 - val_accuracy: 0.9531\n",
            "Epoch 41/50\n",
            "525/525 [==============================] - 101s 192ms/step - loss: 0.0840 - accuracy: 0.9754 - val_loss: 0.1495 - val_accuracy: 0.9594\n",
            "Epoch 42/50\n",
            "525/525 [==============================] - 100s 191ms/step - loss: 0.0911 - accuracy: 0.9721 - val_loss: 0.1319 - val_accuracy: 0.9544\n",
            "Epoch 43/50\n",
            "525/525 [==============================] - 101s 192ms/step - loss: 0.0868 - accuracy: 0.9732 - val_loss: 0.1379 - val_accuracy: 0.9556\n",
            "Epoch 44/50\n",
            "525/525 [==============================] - 101s 192ms/step - loss: 0.0910 - accuracy: 0.9724 - val_loss: 0.1953 - val_accuracy: 0.9381\n",
            "Epoch 45/50\n",
            "525/525 [==============================] - 100s 191ms/step - loss: 0.0802 - accuracy: 0.9746 - val_loss: 0.1688 - val_accuracy: 0.9519\n",
            "Epoch 46/50\n",
            "525/525 [==============================] - 100s 191ms/step - loss: 0.0925 - accuracy: 0.9740 - val_loss: 0.1499 - val_accuracy: 0.9650\n",
            "Epoch 47/50\n",
            "525/525 [==============================] - 101s 192ms/step - loss: 0.0822 - accuracy: 0.9733 - val_loss: 0.1830 - val_accuracy: 0.9500\n",
            "Epoch 48/50\n",
            "525/525 [==============================] - 101s 193ms/step - loss: 0.0936 - accuracy: 0.9725 - val_loss: 0.2755 - val_accuracy: 0.9513\n",
            "Epoch 49/50\n",
            "525/525 [==============================] - 101s 193ms/step - loss: 0.0839 - accuracy: 0.9742 - val_loss: 0.2720 - val_accuracy: 0.9500\n",
            "Epoch 50/50\n",
            "525/525 [==============================] - 101s 193ms/step - loss: 0.0766 - accuracy: 0.9777 - val_loss: 0.1850 - val_accuracy: 0.9563\n"
          ],
          "name": "stdout"
        },
        {
          "output_type": "execute_result",
          "data": {
            "text/plain": [
              "<tensorflow.python.keras.callbacks.History at 0x7fd100548c18>"
            ]
          },
          "metadata": {
            "tags": []
          },
          "execution_count": 56
        }
      ]
    },
    {
      "cell_type": "markdown",
      "metadata": {
        "id": "OWG1f2mfqUbo",
        "colab_type": "text"
      },
      "source": [
        "# Saving Model"
      ]
    },
    {
      "cell_type": "code",
      "metadata": {
        "id": "x2uErLF4mlU8",
        "colab_type": "code",
        "colab": {}
      },
      "source": [
        "#to save the weights in the model as a HDFS file\n",
        "\n",
        "model.save_weights('model_weight.h5')"
      ],
      "execution_count": null,
      "outputs": []
    },
    {
      "cell_type": "code",
      "metadata": {
        "id": "sQVEGZUJqZ6f",
        "colab_type": "code",
        "colab": {}
      },
      "source": [
        "#to save the architecture of the model as a json file\n",
        "\n",
        "with open('model_architecture.json','w') as f:\n",
        "    f.write(model.to_json())"
      ],
      "execution_count": null,
      "outputs": []
    },
    {
      "cell_type": "markdown",
      "metadata": {
        "id": "UkLTtivEqtS8",
        "colab_type": "text"
      },
      "source": [
        "# Restoring the Model"
      ]
    },
    {
      "cell_type": "code",
      "metadata": {
        "id": "7Y0kZv2Gquvs",
        "colab_type": "code",
        "colab": {}
      },
      "source": [
        "from keras.models import load_model\n",
        "from keras.models import model_from_json"
      ],
      "execution_count": null,
      "outputs": []
    },
    {
      "cell_type": "code",
      "metadata": {
        "id": "QCUhrwSvqzhi",
        "colab_type": "code",
        "colab": {}
      },
      "source": [
        "# Model reconstruction from JSON file\n",
        "with open('/content/model_architecture.json', 'r') as f:\n",
        "    model = model_from_json(f.read())\n",
        "\n",
        "# Load weights into the new model\n",
        "model.load_weights('/content/model_weight.h5')"
      ],
      "execution_count": null,
      "outputs": []
    },
    {
      "cell_type": "markdown",
      "metadata": {
        "id": "KZd3z0d1rP4G",
        "colab_type": "text"
      },
      "source": [
        "# Testing the model"
      ]
    },
    {
      "cell_type": "code",
      "metadata": {
        "id": "ZTMKrG_SrQ6G",
        "colab_type": "code",
        "colab": {
          "base_uri": "https://localhost:8080/",
          "height": 51
        },
        "outputId": "4006926c-9969-4126-c9ce-fda0a85eb22c"
      },
      "source": [
        "import numpy as np\n",
        "from keras.preprocessing import image\n",
        "a=\"/content/fresh-pizza-cold-cola-drink-18496799.jpg\"\n",
        "test_image=image.load_img(a,target_size=(img_width,img_height))\n",
        "test_image=image.img_to_array(test_image)\n",
        "test_image=np.expand_dims(test_image,axis=0)\n",
        "result=model.predict(test_image)\n",
        "print(result)\n",
        "\n",
        "if result[0][0]==1.0:\n",
        "    prediction='SoftDrink'\n",
        "else:\n",
        "    prediction='Pizza'\n",
        "print(\"You got a \"+ prediction + \" Yupeeeeeeeeeeeeeeeeeeeeeeeeeeeeee!!!\")"
      ],
      "execution_count": null,
      "outputs": [
        {
          "output_type": "stream",
          "text": [
            "[[1.]]\n",
            "You got a SoftDrink Yupeeeeeeeeeeeeeeeeeeeeeeeeeeeeee!!!\n"
          ],
          "name": "stdout"
        }
      ]
    }
  ]
}